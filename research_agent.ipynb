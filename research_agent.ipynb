{
 "cells": [
  {
   "cell_type": "code",
   "execution_count": 1,
   "id": "d00d817b-4091-46ed-87ac-5a021cdc4260",
   "metadata": {
    "scrolled": true
   },
   "outputs": [
    {
     "name": "stdout",
     "output_type": "stream",
     "text": [
      "Requirement already satisfied: langgraph in /Users/harrisonchase/.pyenv/versions/3.11.1/envs/data-enrichment/lib/python3.11/site-packages (0.1.8)\n",
      "Requirement already satisfied: tavily-python in /Users/harrisonchase/.pyenv/versions/3.11.1/envs/data-enrichment/lib/python3.11/site-packages (0.3.4)\n",
      "Collecting langchain-community\n",
      "  Downloading langchain_community-0.2.7-py3-none-any.whl (2.2 MB)\n",
      "\u001b[2K     \u001b[38;2;114;156;31m━━━━━━━━━━━━━━━━━━━━━━━━━━━━━━━━━━━━━━━━\u001b[0m \u001b[32m2.2/2.2 MB\u001b[0m \u001b[31m3.3 MB/s\u001b[0m eta \u001b[36m0:00:00\u001b[0m MB/s\u001b[0m eta \u001b[36m0:00:01\u001b[0m:01\u001b[0m0m\n",
      "\u001b[?25hCollecting langchain_anthropic\n",
      "  Downloading langchain_anthropic-0.1.20-py3-none-any.whl (20 kB)\n",
      "Requirement already satisfied: langchain-core<0.3,>=0.2.15 in /Users/harrisonchase/.pyenv/versions/3.11.1/envs/data-enrichment/lib/python3.11/site-packages (from langgraph) (0.2.18)\n",
      "Requirement already satisfied: requests in /Users/harrisonchase/.pyenv/versions/3.11.1/envs/data-enrichment/lib/python3.11/site-packages (from tavily-python) (2.32.3)\n",
      "Requirement already satisfied: tiktoken>=0.5.1 in /Users/harrisonchase/.pyenv/versions/3.11.1/envs/data-enrichment/lib/python3.11/site-packages (from tavily-python) (0.7.0)\n",
      "Requirement already satisfied: httpx in /Users/harrisonchase/.pyenv/versions/3.11.1/envs/data-enrichment/lib/python3.11/site-packages (from tavily-python) (0.27.0)\n",
      "Requirement already satisfied: PyYAML>=5.3 in /Users/harrisonchase/.pyenv/versions/3.11.1/envs/data-enrichment/lib/python3.11/site-packages (from langchain-community) (6.0.1)\n",
      "Collecting SQLAlchemy<3,>=1.4\n",
      "  Downloading SQLAlchemy-2.0.31-cp311-cp311-macosx_11_0_arm64.whl (2.1 MB)\n",
      "\u001b[2K     \u001b[38;2;114;156;31m━━━━━━━━━━━━━━━━━━━━━━━━━━━━━━━━━━━━━━━━\u001b[0m \u001b[32m2.1/2.1 MB\u001b[0m \u001b[31m15.4 MB/s\u001b[0m eta \u001b[36m0:00:00\u001b[0mm eta \u001b[36m0:00:01\u001b[0m0:01\u001b[0m:01\u001b[0m\n",
      "\u001b[?25hCollecting aiohttp<4.0.0,>=3.8.3\n",
      "  Using cached aiohttp-3.9.5-cp311-cp311-macosx_11_0_arm64.whl (390 kB)\n",
      "Collecting dataclasses-json<0.7,>=0.5.7\n",
      "  Downloading dataclasses_json-0.6.7-py3-none-any.whl (28 kB)\n",
      "Collecting langchain<0.3.0,>=0.2.7\n",
      "  Downloading langchain-0.2.7-py3-none-any.whl (983 kB)\n",
      "\u001b[2K     \u001b[38;2;114;156;31m━━━━━━━━━━━━━━━━━━━━━━━━━━━━━━━━━━━━━━\u001b[0m \u001b[32m983.6/983.6 kB\u001b[0m \u001b[31m14.1 MB/s\u001b[0m eta \u001b[36m0:00:00\u001b[0m MB/s\u001b[0m eta \u001b[36m0:00:01\u001b[0m\n",
      "\u001b[?25hRequirement already satisfied: langsmith<0.2.0,>=0.1.0 in /Users/harrisonchase/.pyenv/versions/3.11.1/envs/data-enrichment/lib/python3.11/site-packages (from langchain-community) (0.1.85)\n",
      "Collecting numpy<2,>=1\n",
      "  Using cached numpy-1.26.4-cp311-cp311-macosx_11_0_arm64.whl (14.0 MB)\n",
      "Requirement already satisfied: tenacity!=8.4.0,<9.0.0,>=8.1.0 in /Users/harrisonchase/.pyenv/versions/3.11.1/envs/data-enrichment/lib/python3.11/site-packages (from langchain-community) (8.5.0)\n",
      "Collecting anthropic<1,>=0.28.0\n",
      "  Downloading anthropic-0.31.0-py3-none-any.whl (865 kB)\n",
      "\u001b[2K     \u001b[38;2;114;156;31m━━━━━━━━━━━━━━━━━━━━━━━━━━━━━━━━━━━━━━\u001b[0m \u001b[32m865.4/865.4 kB\u001b[0m \u001b[31m19.6 MB/s\u001b[0m eta \u001b[36m0:00:00\u001b[0mm eta \u001b[36m0:00:01\u001b[0m\n",
      "\u001b[?25hRequirement already satisfied: defusedxml<0.8.0,>=0.7.1 in /Users/harrisonchase/.pyenv/versions/3.11.1/envs/data-enrichment/lib/python3.11/site-packages (from langchain_anthropic) (0.7.1)\n",
      "Collecting aiosignal>=1.1.2\n",
      "  Using cached aiosignal-1.3.1-py3-none-any.whl (7.6 kB)\n",
      "Requirement already satisfied: attrs>=17.3.0 in /Users/harrisonchase/.pyenv/versions/3.11.1/envs/data-enrichment/lib/python3.11/site-packages (from aiohttp<4.0.0,>=3.8.3->langchain-community) (23.2.0)\n",
      "Collecting frozenlist>=1.1.1\n",
      "  Using cached frozenlist-1.4.1-cp311-cp311-macosx_11_0_arm64.whl (53 kB)\n",
      "Collecting multidict<7.0,>=4.5\n",
      "  Using cached multidict-6.0.5-cp311-cp311-macosx_11_0_arm64.whl (30 kB)\n",
      "Collecting yarl<2.0,>=1.0\n",
      "  Using cached yarl-1.9.4-cp311-cp311-macosx_11_0_arm64.whl (81 kB)\n",
      "Requirement already satisfied: anyio<5,>=3.5.0 in /Users/harrisonchase/.pyenv/versions/3.11.1/envs/data-enrichment/lib/python3.11/site-packages (from anthropic<1,>=0.28.0->langchain_anthropic) (4.4.0)\n",
      "Requirement already satisfied: distro<2,>=1.7.0 in /Users/harrisonchase/.pyenv/versions/3.11.1/envs/data-enrichment/lib/python3.11/site-packages (from anthropic<1,>=0.28.0->langchain_anthropic) (1.9.0)\n",
      "Collecting jiter<1,>=0.4.0\n",
      "  Downloading jiter-0.5.0-cp311-cp311-macosx_11_0_arm64.whl (299 kB)\n",
      "\u001b[2K     \u001b[38;2;114;156;31m━━━━━━━━━━━━━━━━━━━━━━━━━━━━━━━━━━━━━━\u001b[0m \u001b[32m299.3/299.3 kB\u001b[0m \u001b[31m12.2 MB/s\u001b[0m eta \u001b[36m0:00:00\u001b[0m\n",
      "\u001b[?25hRequirement already satisfied: pydantic<3,>=1.9.0 in /Users/harrisonchase/.pyenv/versions/3.11.1/envs/data-enrichment/lib/python3.11/site-packages (from anthropic<1,>=0.28.0->langchain_anthropic) (2.8.2)\n",
      "Requirement already satisfied: sniffio in /Users/harrisonchase/.pyenv/versions/3.11.1/envs/data-enrichment/lib/python3.11/site-packages (from anthropic<1,>=0.28.0->langchain_anthropic) (1.3.1)\n",
      "Collecting tokenizers>=0.13.0\n",
      "  Using cached tokenizers-0.19.1-cp311-cp311-macosx_11_0_arm64.whl (2.4 MB)\n",
      "Requirement already satisfied: typing-extensions<5,>=4.7 in /Users/harrisonchase/.pyenv/versions/3.11.1/envs/data-enrichment/lib/python3.11/site-packages (from anthropic<1,>=0.28.0->langchain_anthropic) (4.12.2)\n",
      "Collecting marshmallow<4.0.0,>=3.18.0\n",
      "  Using cached marshmallow-3.21.3-py3-none-any.whl (49 kB)\n",
      "Collecting typing-inspect<1,>=0.4.0\n",
      "  Using cached typing_inspect-0.9.0-py3-none-any.whl (8.8 kB)\n",
      "Requirement already satisfied: certifi in /Users/harrisonchase/.pyenv/versions/3.11.1/envs/data-enrichment/lib/python3.11/site-packages (from httpx->tavily-python) (2024.7.4)\n",
      "Requirement already satisfied: httpcore==1.* in /Users/harrisonchase/.pyenv/versions/3.11.1/envs/data-enrichment/lib/python3.11/site-packages (from httpx->tavily-python) (1.0.5)\n",
      "Requirement already satisfied: idna in /Users/harrisonchase/.pyenv/versions/3.11.1/envs/data-enrichment/lib/python3.11/site-packages (from httpx->tavily-python) (3.7)\n",
      "Requirement already satisfied: h11<0.15,>=0.13 in /Users/harrisonchase/.pyenv/versions/3.11.1/envs/data-enrichment/lib/python3.11/site-packages (from httpcore==1.*->httpx->tavily-python) (0.14.0)\n",
      "Collecting langchain-text-splitters<0.3.0,>=0.2.0\n",
      "  Downloading langchain_text_splitters-0.2.2-py3-none-any.whl (25 kB)\n",
      "Requirement already satisfied: jsonpatch<2.0,>=1.33 in /Users/harrisonchase/.pyenv/versions/3.11.1/envs/data-enrichment/lib/python3.11/site-packages (from langchain-core<0.3,>=0.2.15->langgraph) (1.33)\n",
      "Requirement already satisfied: packaging<25,>=23.2 in /Users/harrisonchase/.pyenv/versions/3.11.1/envs/data-enrichment/lib/python3.11/site-packages (from langchain-core<0.3,>=0.2.15->langgraph) (24.1)\n",
      "Requirement already satisfied: orjson<4.0.0,>=3.9.14 in /Users/harrisonchase/.pyenv/versions/3.11.1/envs/data-enrichment/lib/python3.11/site-packages (from langsmith<0.2.0,>=0.1.0->langchain-community) (3.10.6)\n",
      "Requirement already satisfied: charset-normalizer<4,>=2 in /Users/harrisonchase/.pyenv/versions/3.11.1/envs/data-enrichment/lib/python3.11/site-packages (from requests->tavily-python) (3.3.2)\n",
      "Requirement already satisfied: urllib3<3,>=1.21.1 in /Users/harrisonchase/.pyenv/versions/3.11.1/envs/data-enrichment/lib/python3.11/site-packages (from requests->tavily-python) (2.2.2)\n",
      "Requirement already satisfied: regex>=2022.1.18 in /Users/harrisonchase/.pyenv/versions/3.11.1/envs/data-enrichment/lib/python3.11/site-packages (from tiktoken>=0.5.1->tavily-python) (2024.5.15)\n",
      "Requirement already satisfied: jsonpointer>=1.9 in /Users/harrisonchase/.pyenv/versions/3.11.1/envs/data-enrichment/lib/python3.11/site-packages (from jsonpatch<2.0,>=1.33->langchain-core<0.3,>=0.2.15->langgraph) (3.0.0)\n",
      "Requirement already satisfied: annotated-types>=0.4.0 in /Users/harrisonchase/.pyenv/versions/3.11.1/envs/data-enrichment/lib/python3.11/site-packages (from pydantic<3,>=1.9.0->anthropic<1,>=0.28.0->langchain_anthropic) (0.7.0)\n",
      "Requirement already satisfied: pydantic-core==2.20.1 in /Users/harrisonchase/.pyenv/versions/3.11.1/envs/data-enrichment/lib/python3.11/site-packages (from pydantic<3,>=1.9.0->anthropic<1,>=0.28.0->langchain_anthropic) (2.20.1)\n",
      "Collecting huggingface-hub<1.0,>=0.16.4\n",
      "  Downloading huggingface_hub-0.23.4-py3-none-any.whl (402 kB)\n",
      "\u001b[2K     \u001b[38;2;114;156;31m━━━━━━━━━━━━━━━━━━━━━━━━━━━━━━━━━━━━━━\u001b[0m \u001b[32m402.6/402.6 kB\u001b[0m \u001b[31m13.0 MB/s\u001b[0m eta \u001b[36m0:00:00\u001b[0m\n",
      "\u001b[?25hCollecting mypy-extensions>=0.3.0\n",
      "  Using cached mypy_extensions-1.0.0-py3-none-any.whl (4.7 kB)\n",
      "Collecting filelock\n",
      "  Downloading filelock-3.15.4-py3-none-any.whl (16 kB)\n",
      "Collecting fsspec>=2023.5.0\n",
      "  Downloading fsspec-2024.6.1-py3-none-any.whl (177 kB)\n",
      "\u001b[2K     \u001b[38;2;114;156;31m━━━━━━━━━━━━━━━━━━━━━━━━━━━━━━━━━━━━━━\u001b[0m \u001b[32m177.6/177.6 kB\u001b[0m \u001b[31m13.0 MB/s\u001b[0m eta \u001b[36m0:00:00\u001b[0m\n",
      "\u001b[?25hRequirement already satisfied: tqdm>=4.42.1 in /Users/harrisonchase/.pyenv/versions/3.11.1/envs/data-enrichment/lib/python3.11/site-packages (from huggingface-hub<1.0,>=0.16.4->tokenizers>=0.13.0->anthropic<1,>=0.28.0->langchain_anthropic) (4.66.4)\n",
      "Installing collected packages: SQLAlchemy, numpy, mypy-extensions, multidict, marshmallow, jiter, fsspec, frozenlist, filelock, yarl, typing-inspect, huggingface-hub, aiosignal, tokenizers, dataclasses-json, aiohttp, anthropic, langchain-text-splitters, langchain_anthropic, langchain, langchain-community\n",
      "  Attempting uninstall: numpy\n",
      "    Found existing installation: numpy 2.0.0\n",
      "    Uninstalling numpy-2.0.0:\n",
      "      Successfully uninstalled numpy-2.0.0\n",
      "Successfully installed SQLAlchemy-2.0.31 aiohttp-3.9.5 aiosignal-1.3.1 anthropic-0.31.0 dataclasses-json-0.6.7 filelock-3.15.4 frozenlist-1.4.1 fsspec-2024.6.1 huggingface-hub-0.23.4 jiter-0.5.0 langchain-0.2.7 langchain-community-0.2.7 langchain-text-splitters-0.2.2 langchain_anthropic-0.1.20 marshmallow-3.21.3 multidict-6.0.5 mypy-extensions-1.0.0 numpy-1.26.4 tokenizers-0.19.1 typing-inspect-0.9.0 yarl-1.9.4\n",
      "\n",
      "\u001b[1m[\u001b[0m\u001b[34;49mnotice\u001b[0m\u001b[1;39;49m]\u001b[0m\u001b[39;49m A new release of pip available: \u001b[0m\u001b[31;49m22.3.1\u001b[0m\u001b[39;49m -> \u001b[0m\u001b[32;49m24.1.2\u001b[0m\n",
      "\u001b[1m[\u001b[0m\u001b[34;49mnotice\u001b[0m\u001b[1;39;49m]\u001b[0m\u001b[39;49m To update, run: \u001b[0m\u001b[32;49mpython3.11 -m pip install --upgrade pip\u001b[0m\n"
     ]
    }
   ],
   "source": [
    "!pip install langgraph tavily-python langchain-community langchain_anthropic"
   ]
  },
  {
   "cell_type": "code",
   "execution_count": 1,
   "id": "0668c64f-d9cb-43f7-8bad-95be50ee7fca",
   "metadata": {},
   "outputs": [],
   "source": [
    "import os\n",
    "os.environ['LANGCHAIN_TRACING_V2'] = \"true\""
   ]
  },
  {
   "cell_type": "code",
   "execution_count": 2,
   "id": "2f0f252f-5f51-47cb-97d6-f1ef27bace1f",
   "metadata": {},
   "outputs": [
    {
     "name": "stderr",
     "output_type": "stream",
     "text": [
      "USER_AGENT environment variable not set, consider setting it to identify your requests.\n"
     ]
    }
   ],
   "source": [
    "from langchain_community.document_loaders import WebBaseLoader"
   ]
  },
  {
   "cell_type": "code",
   "execution_count": 3,
   "id": "9a468a2b-bf7a-470c-bf1a-2aa052e96fe1",
   "metadata": {},
   "outputs": [],
   "source": [
    "from langchain_core.pydantic_v1 import BaseModel, Field\n",
    "from typing import Literal\n",
    "from langchain_anthropic import ChatAnthropic\n",
    "import json\n",
    "from langchain_community.tools.tavily_search import TavilySearchResults\n",
    "from typing import TypedDict\n",
    "from langgraph.graph import StateGraph, END"
   ]
  },
  {
   "cell_type": "code",
   "execution_count": null,
   "id": "0429b66e-b7a1-4e9b-ac5d-652c35cd2118",
   "metadata": {},
   "outputs": [],
   "source": []
  },
  {
   "cell_type": "code",
   "execution_count": 4,
   "id": "81d274a5-a460-44af-a3e4-072da0ec6636",
   "metadata": {},
   "outputs": [],
   "source": [
    "raw_model = ChatAnthropic(model_name=\"claude-3-5-sonnet-20240620\")"
   ]
  },
  {
   "cell_type": "code",
   "execution_count": 70,
   "id": "8494f3f1-833b-458c-9e97-0f2e3243f3cd",
   "metadata": {},
   "outputs": [],
   "source": [
    "class Info(BaseModel):\n",
    "    language: str\n",
    "    prospect: Literal[\"Public Company\", \"Large Private Company\", \"AI Native Early Legit Startup\", \"Early Legit Startup\", \"Early Startup\", \"AI Native Early Startup\", \"AI Native Pre-Company\", \"Other\", \"Personal\", \"Consultancy\", \"Education\"]\n",
    "    horizontal: bool\n",
    "    interest_reasoning: str\n",
    "    interest_score: int"
   ]
  },
  {
   "cell_type": "code",
   "execution_count": 71,
   "id": "b159decd-9ae2-42b4-b1a9-62c6a28ca895",
   "metadata": {},
   "outputs": [],
   "source": [
    "model = raw_model.with_structured_output(Info)"
   ]
  },
  {
   "cell_type": "code",
   "execution_count": 72,
   "id": "d08ffe68-5a2c-4baf-bf04-729de350d66d",
   "metadata": {},
   "outputs": [],
   "source": [
    "prompt = \"\"\"You are doing research on companies. All these companies signed up for LangChain waitlist. \\\n",
    "LangChain is an LLMOps company. Your job is to fill out information about these companies that will help \\\n",
    "determine which ones are interesting to look at.\n",
    "\n",
    "The information you should be gathering is:\n",
    "\n",
    "Language: The language of the website, should be ISO 639 three-letter (set 2) codes (eng, fra, etc)\n",
    "\n",
    "Horizontal: Whether this is a horizontal AI company or not. Horizontal AI companies include low-code platforms for building \\\n",
    "generic LLM applications\n",
    "\n",
    "Prospect: What type of company this is. This includes:\n",
    "- Public Company: if they are a publicly traded company\n",
    "- Large Private Company: greater than 1 bil valuation\n",
    "- AI Native Early Legit Startup: A legit startup (top tier investors) that is built around AI\n",
    "- Early Legit Startup: A legit startup (top tier investors) that is NOT built around AI\n",
    "- AI Native Early Startup: A early stage startup that does not have top tier VCs or real revenue but has some investment/revenue\n",
    "- Early Startup: A early stage startup that does not have top tier VCs or real revenue but has some investment/revenue\n",
    "- AI Native Pre-Company: A super early startup, or one that does not have any investment from good VCs or revenue\n",
    "- Personal: personal websites\n",
    "- Consultancy\n",
    "- Education\n",
    "- Other: doesn't fit any of the above categories\n",
    "\n",
    "Interest: How interesting overall this company seems for LangChain to engage. Companies that are interesting are generally \\\n",
    "English speaking, hot, fast moving vertical startups or large private companies. However, if a \"logo\" would be good to \\\n",
    "have on LangChain website, then that is also interesting. The more information they provide in the `Info` field, \\\n",
    "that likely means they are more engaged, and therefor it is more interesting. \\\n",
    "If the company is horizontal, or seems to be consulting, they are less interesting. There are two fields here to fill out:\n",
    "- Interest Reasoning: Reasoning for why or why not this company is interesting\n",
    "- Interest Score: Score between 1-10 for how interesting this company is, 10 being more interesting\n",
    "\n",
    "When filling out the form, they specified some information about how they hope to use the product. \\\n",
    "This was an optional field. The information they specified was:\n",
    "\n",
    "<info>\n",
    "{info}\n",
    "</info>\n",
    "\n",
    "Based on the below website, fill out information about the company {company_name}.\n",
    "\n",
    "{website}\"\"\""
   ]
  },
  {
   "cell_type": "code",
   "execution_count": 73,
   "id": "b2225899-4702-476b-8ba3-e8dab33fedbb",
   "metadata": {},
   "outputs": [],
   "source": [
    "\n",
    "\n",
    "class State(TypedDict):\n",
    "    url: str\n",
    "    company_name: str\n",
    "    info: str\n",
    "    website: str\n",
    "    response: Info\n",
    "    new_url: str"
   ]
  },
  {
   "cell_type": "code",
   "execution_count": 74,
   "id": "14ca342b-4f78-4e17-9401-8a0968150737",
   "metadata": {},
   "outputs": [],
   "source": [
    "def load_website(state: State):\n",
    "    try:\n",
    "        loader = WebBaseLoader(\"https://\" + state['url'])\n",
    "        docs = loader.load()\n",
    "        return {\"website\": docs[0].page_content}\n",
    "    except:\n",
    "        pass"
   ]
  },
  {
   "cell_type": "code",
   "execution_count": 83,
   "id": "39d1eff8-3e41-4fa1-b845-9ff5acd528bb",
   "metadata": {},
   "outputs": [],
   "source": [
    "tool = TavilySearchResults()\n",
    "\n",
    "class NewUrl(BaseModel):\n",
    "    url: str\n",
    "\n",
    "class Nothing(BaseModel):\n",
    "    nothing: bool\n",
    "    \n",
    "def research_website(state: State):\n",
    "    results = TavilySearchResults().run(state[\"company_name\"])\n",
    "    \n",
    "    prompt = \"\"\"You are trying to find the correct url for a given company. Here is the company info:\n",
    "    \n",
    "    name: {company_name}\n",
    "    domain: {url}\n",
    "    \n",
    "    The domain was not found, so we think it is wrong. We searched for the company name, and got the following results:\n",
    "    \n",
    "    {results}\n",
    "    \n",
    "    Based on these results, either (a) try a new URL, or (b) decide that there is nothing present and give up. \\\n",
    "    If generating the URL, do not include the prefix (eg return `foo.com` not `https://foo.com`\"\"\"\n",
    "    \n",
    "    response = raw_model.bind_tools([NewUrl, Nothing]).invoke(prompt.format(\n",
    "        results = results,\n",
    "        company_name= state[\"company_name\"],\n",
    "        url=state[\"url\"]\n",
    "    ))\n",
    "    if len(response.tool_calls) == 1:\n",
    "        if response.tool_calls[0]['name'] == 'NewUrl':\n",
    "            return {\"new_url\": response.tool_calls[0]['args']['url']}"
   ]
  },
  {
   "cell_type": "code",
   "execution_count": 84,
   "id": "0e10813a-f7f8-4bb2-8e57-84865bfa0a49",
   "metadata": {},
   "outputs": [],
   "source": [
    "def get_info(state: State):\n",
    "    p = prompt.format(company_name=state['company_name'], website=state['website'], info=state['info'])\n",
    "    result = model.invoke(p)\n",
    "    return {\"response\": result}"
   ]
  },
  {
   "cell_type": "code",
   "execution_count": 85,
   "id": "68b460fa-572c-4910-9f9c-7fa57ef105a3",
   "metadata": {},
   "outputs": [],
   "source": [
    "def initial_success(state: State):\n",
    "    if \"website\" not in state or not state['website']:\n",
    "        return \"research_website\"\n",
    "    else:\n",
    "        return \"get_info\"\n",
    "\n",
    "def load_new_website(state: State):\n",
    "    try:\n",
    "        loader = WebBaseLoader(\"https://\" + state['new_url'])\n",
    "        docs = loader.load()\n",
    "        return {\"website\": docs[0].page_content}\n",
    "    except:\n",
    "        pass\n",
    "\n",
    "def found_website(state: State):\n",
    "    if \"new_url\" in state:\n",
    "        return \"load_new_website\"\n",
    "    else:\n",
    "        return END\n"
   ]
  },
  {
   "cell_type": "code",
   "execution_count": 86,
   "id": "dafbbd9b-44a8-4f44-b01e-15ac4566340a",
   "metadata": {},
   "outputs": [],
   "source": [
    "graph = StateGraph(State)\n",
    "graph.add_node(load_website)\n",
    "graph.add_node(get_info)\n",
    "graph.add_node(load_new_website)\n",
    "graph.add_node(research_website)\n",
    "graph.add_conditional_edges(\"load_website\", initial_success)\n",
    "graph.add_conditional_edges(\"research_website\", found_website)\n",
    "graph.add_edge(\"load_new_website\", \"get_info\")\n",
    "graph.add_edge(\"get_info\", END)\n",
    "graph.set_entry_point(\"load_website\")\n",
    "graph = graph.compile()"
   ]
  },
  {
   "cell_type": "code",
   "execution_count": 87,
   "id": "a0838c43-be3c-476f-a9e6-ea12a9855f9f",
   "metadata": {},
   "outputs": [
    {
     "data": {
      "image/jpeg": "[encoded data removed]",
      "text/plain": [
       "<IPython.core.display.Image object>"
      ]
     },
     "execution_count": 87,
     "metadata": {},
     "output_type": "execute_result"
    }
   ],
   "source": [
    "\n",
    "from IPython.display import Image, display\n",
    "\n",
    "Image(graph.get_graph().draw_mermaid_png())"
   ]
  },
  {
   "cell_type": "code",
   "execution_count": 88,
   "id": "33fee3ef-71ec-42f2-9838-643aace424cc",
   "metadata": {},
   "outputs": [],
   "source": [
    "import pandas as pd\n",
    "df = pd.read_csv('/Users/harrisonchase/Downloads/Table 1-All.csv')"
   ]
  },
  {
   "cell_type": "code",
   "execution_count": 89,
   "id": "c9c2f865-5532-4323-911c-20f087412781",
   "metadata": {},
   "outputs": [],
   "source": [
    "records = df.to_dict(orient=\"records\")\n",
    "records = [{\"url\": r['Domain'], 'company_name': r['Company Name'], \"info\": r['Problems']} for r in records]"
   ]
  },
  {
   "cell_type": "code",
   "execution_count": 90,
   "id": "7b6c8c97-c3f5-4672-b88f-766a300cc0a5",
   "metadata": {},
   "outputs": [],
   "source": [
    "results = graph.batch(records[10:20])"
   ]
  },
  {
   "cell_type": "code",
   "execution_count": 93,
   "id": "39693ec7-2ae3-4e4c-9cd9-ba8d8bba8860",
   "metadata": {},
   "outputs": [
    {
     "name": "stdout",
     "output_type": "stream",
     "text": [
      "{\n",
      "  \"url\": \"ibm.com\",\n",
      "  \"company_name\": \"IBM\",\n",
      "  \"info\": \"Easy deployment and development!\",\n",
      "  \"response\": {\n",
      "    \"language\": \"eng\",\n",
      "    \"prospect\": \"Public Company\",\n",
      "    \"horizontal\": false,\n",
      "    \"interest_reasoning\": \"IBM is a large, well-established public company with significant resources and a strong focus on AI and cloud technologies. They are actively involved in developing and implementing AI solutions across various industries. While they are not a startup or fast-moving vertical company, having IBM as a client would be a significant logo for LangChain. Their interest in \\\"easy deployment and development\\\" aligns well with LangChain's offerings. However, as a large corporation, they may have their own in-house solutions, which could limit their engagement.\",\n",
      "    \"interest_score\": 7\n",
      "  }\n",
      "}\n",
      "----------------------\n"
     ]
    }
   ],
   "source": [
    "for r in results[:1]:\n",
    "    r1 = r.copy()\n",
    "    r1['response'] = r['response'].dict()\n",
    "    print(json.dumps({k:v for k,v in r1.items() if k != \"website\"}, indent=2))\n",
    "    print(\"----------------------\")"
   ]
  },
  {
   "cell_type": "code",
   "execution_count": null,
   "id": "c470b2d9-1944-4ec7-9e60-6521f42c7dc5",
   "metadata": {},
   "outputs": [],
   "source": []
  }
 ],
 "metadata": {
  "kernelspec": {
   "display_name": "Python 3 (ipykernel)",
   "language": "python",
   "name": "python3"
  },
  "language_info": {
   "codemirror_mode": {
    "name": "ipython",
    "version": 3
   },
   "file_extension": ".py",
   "mimetype": "text/x-python",
   "name": "python",
   "nbconvert_exporter": "python",
   "pygments_lexer": "ipython3",
   "version": "3.11.1"
  }
 },
 "nbformat": 4,
 "nbformat_minor": 5
}
